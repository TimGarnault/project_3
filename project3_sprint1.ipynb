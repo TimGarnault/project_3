{
 "cells": [
  {
   "cell_type": "code",
   "execution_count": null,
   "metadata": {},
   "outputs": [
    {
     "name": "stderr",
     "output_type": "stream",
     "text": [
      "C:\\Users\\Nutzer\\AppData\\Local\\Temp\\ipykernel_13360\\3024179443.py:9: DtypeWarning: Columns (5,7) have mixed types. Specify dtype option on import or set low_memory=False.\n",
      "  df = pd.read_csv('CBS_2021-2023_Full.csv')\n"
     ]
    }
   ],
   "source": [
    "# Project 3 _ bike sharing\n",
    "\n",
    "import pandas as pd\n",
    "import numpy as np\n",
    "import matplotlib.pyplot as plt\n",
    "import seaborn as sns\n",
    "\n",
    "df = pd.read_csv('CBS_2021-2023_Full.csv')\n"
   ]
  },
  {
   "cell_type": "code",
   "execution_count": 2,
   "metadata": {},
   "outputs": [
    {
     "data": {
      "text/plain": [
       "(10693997, 13)"
      ]
     },
     "execution_count": 2,
     "metadata": {},
     "output_type": "execute_result"
    }
   ],
   "source": [
    "df.shape"
   ]
  },
  {
   "cell_type": "code",
   "execution_count": 14,
   "metadata": {},
   "outputs": [
    {
     "data": {
      "text/html": [
       "<div>\n",
       "<style scoped>\n",
       "    .dataframe tbody tr th:only-of-type {\n",
       "        vertical-align: middle;\n",
       "    }\n",
       "\n",
       "    .dataframe tbody tr th {\n",
       "        vertical-align: top;\n",
       "    }\n",
       "\n",
       "    .dataframe thead th {\n",
       "        text-align: right;\n",
       "    }\n",
       "</style>\n",
       "<table border=\"1\" class=\"dataframe\">\n",
       "  <thead>\n",
       "    <tr style=\"text-align: right;\">\n",
       "      <th></th>\n",
       "      <th>ride_id</th>\n",
       "      <th>rideable_type</th>\n",
       "      <th>started_at</th>\n",
       "      <th>ended_at</th>\n",
       "      <th>start_station_name</th>\n",
       "      <th>start_station_id</th>\n",
       "      <th>end_station_name</th>\n",
       "      <th>end_station_id</th>\n",
       "      <th>start_lat</th>\n",
       "      <th>start_lng</th>\n",
       "      <th>end_lat</th>\n",
       "      <th>end_lng</th>\n",
       "      <th>member_casual</th>\n",
       "    </tr>\n",
       "  </thead>\n",
       "  <tbody>\n",
       "    <tr>\n",
       "      <th>0</th>\n",
       "      <td>5CB9DFCECF79AF84</td>\n",
       "      <td>classic_bike</td>\n",
       "      <td>2021-01-01 00:08:33</td>\n",
       "      <td>2021-01-01 00:33:53</td>\n",
       "      <td>Maine Ave &amp; 9th St SW</td>\n",
       "      <td>31646.0</td>\n",
       "      <td>Rosslyn Metro / Wilson Blvd &amp; Ft Myer Dr</td>\n",
       "      <td>31015.0</td>\n",
       "      <td>38.880440</td>\n",
       "      <td>-77.025236</td>\n",
       "      <td>38.894600</td>\n",
       "      <td>-77.072305</td>\n",
       "      <td>member</td>\n",
       "    </tr>\n",
       "    <tr>\n",
       "      <th>1</th>\n",
       "      <td>629E059504606547</td>\n",
       "      <td>electric_bike</td>\n",
       "      <td>2021-01-01 00:13:43</td>\n",
       "      <td>2021-01-01 00:29:34</td>\n",
       "      <td>10th &amp; U St NW</td>\n",
       "      <td>31111.0</td>\n",
       "      <td>NaN</td>\n",
       "      <td>NaN</td>\n",
       "      <td>38.917193</td>\n",
       "      <td>-77.025894</td>\n",
       "      <td>38.960000</td>\n",
       "      <td>-77.020000</td>\n",
       "      <td>casual</td>\n",
       "    </tr>\n",
       "    <tr>\n",
       "      <th>2</th>\n",
       "      <td>E74069873161EE33</td>\n",
       "      <td>electric_bike</td>\n",
       "      <td>2021-01-01 00:14:32</td>\n",
       "      <td>2021-01-01 00:28:45</td>\n",
       "      <td>17th &amp; Corcoran St NW</td>\n",
       "      <td>31214.0</td>\n",
       "      <td>14th &amp; Belmont St NW</td>\n",
       "      <td>31119.0</td>\n",
       "      <td>38.912138</td>\n",
       "      <td>-77.038568</td>\n",
       "      <td>38.920870</td>\n",
       "      <td>-77.031691</td>\n",
       "      <td>member</td>\n",
       "    </tr>\n",
       "    <tr>\n",
       "      <th>3</th>\n",
       "      <td>91F95E512CABC46A</td>\n",
       "      <td>classic_bike</td>\n",
       "      <td>2021-01-01 00:15:45</td>\n",
       "      <td>2021-01-01 00:21:20</td>\n",
       "      <td>Wilson Blvd. &amp; N. Vermont St.</td>\n",
       "      <td>31926.0</td>\n",
       "      <td>Wilson Blvd. &amp; N. Vermont St.</td>\n",
       "      <td>31926.0</td>\n",
       "      <td>38.879477</td>\n",
       "      <td>-77.114563</td>\n",
       "      <td>38.879477</td>\n",
       "      <td>-77.114563</td>\n",
       "      <td>member</td>\n",
       "    </tr>\n",
       "    <tr>\n",
       "      <th>4</th>\n",
       "      <td>DA46A05139C0EA2F</td>\n",
       "      <td>classic_bike</td>\n",
       "      <td>2021-01-01 00:17:46</td>\n",
       "      <td>2021-01-01 00:21:00</td>\n",
       "      <td>11th &amp; Park Rd NW</td>\n",
       "      <td>31651.0</td>\n",
       "      <td>14th &amp; Newton St NW</td>\n",
       "      <td>31649.0</td>\n",
       "      <td>38.931322</td>\n",
       "      <td>-77.028247</td>\n",
       "      <td>38.931991</td>\n",
       "      <td>-77.032956</td>\n",
       "      <td>member</td>\n",
       "    </tr>\n",
       "  </tbody>\n",
       "</table>\n",
       "</div>"
      ],
      "text/plain": [
       "            ride_id  rideable_type           started_at             ended_at  \\\n",
       "0  5CB9DFCECF79AF84   classic_bike  2021-01-01 00:08:33  2021-01-01 00:33:53   \n",
       "1  629E059504606547  electric_bike  2021-01-01 00:13:43  2021-01-01 00:29:34   \n",
       "2  E74069873161EE33  electric_bike  2021-01-01 00:14:32  2021-01-01 00:28:45   \n",
       "3  91F95E512CABC46A   classic_bike  2021-01-01 00:15:45  2021-01-01 00:21:20   \n",
       "4  DA46A05139C0EA2F   classic_bike  2021-01-01 00:17:46  2021-01-01 00:21:00   \n",
       "\n",
       "              start_station_name start_station_id  \\\n",
       "0          Maine Ave & 9th St SW          31646.0   \n",
       "1                 10th & U St NW          31111.0   \n",
       "2          17th & Corcoran St NW          31214.0   \n",
       "3  Wilson Blvd. & N. Vermont St.          31926.0   \n",
       "4              11th & Park Rd NW          31651.0   \n",
       "\n",
       "                           end_station_name end_station_id  start_lat  \\\n",
       "0  Rosslyn Metro / Wilson Blvd & Ft Myer Dr        31015.0  38.880440   \n",
       "1                                       NaN            NaN  38.917193   \n",
       "2                      14th & Belmont St NW        31119.0  38.912138   \n",
       "3             Wilson Blvd. & N. Vermont St.        31926.0  38.879477   \n",
       "4                       14th & Newton St NW        31649.0  38.931322   \n",
       "\n",
       "   start_lng    end_lat    end_lng member_casual  \n",
       "0 -77.025236  38.894600 -77.072305        member  \n",
       "1 -77.025894  38.960000 -77.020000        casual  \n",
       "2 -77.038568  38.920870 -77.031691        member  \n",
       "3 -77.114563  38.879477 -77.114563        member  \n",
       "4 -77.028247  38.931991 -77.032956        member  "
      ]
     },
     "execution_count": 14,
     "metadata": {},
     "output_type": "execute_result"
    }
   ],
   "source": [
    "df.head(5)"
   ]
  },
  {
   "cell_type": "code",
   "execution_count": 5,
   "metadata": {},
   "outputs": [
    {
     "name": "stdout",
     "output_type": "stream",
     "text": [
      "<class 'pandas.core.frame.DataFrame'>\n",
      "RangeIndex: 10693997 entries, 0 to 10693996\n",
      "Data columns (total 13 columns):\n",
      " #   Column              Dtype  \n",
      "---  ------              -----  \n",
      " 0   ride_id             object \n",
      " 1   rideable_type       object \n",
      " 2   started_at          object \n",
      " 3   ended_at            object \n",
      " 4   start_station_name  object \n",
      " 5   start_station_id    object \n",
      " 6   end_station_name    object \n",
      " 7   end_station_id      object \n",
      " 8   start_lat           float64\n",
      " 9   start_lng           float64\n",
      " 10  end_lat             float64\n",
      " 11  end_lng             float64\n",
      " 12  member_casual       object \n",
      "dtypes: float64(4), object(9)\n",
      "memory usage: 1.0+ GB\n"
     ]
    }
   ],
   "source": [
    "df.info()"
   ]
  },
  {
   "cell_type": "code",
   "execution_count": 11,
   "metadata": {},
   "outputs": [],
   "source": [
    "string_col = df.select_dtypes(include=\"object\").columns"
   ]
  },
  {
   "cell_type": "code",
   "execution_count": 12,
   "metadata": {},
   "outputs": [
    {
     "data": {
      "text/html": [
       "<div>\n",
       "<style scoped>\n",
       "    .dataframe tbody tr th:only-of-type {\n",
       "        vertical-align: middle;\n",
       "    }\n",
       "\n",
       "    .dataframe tbody tr th {\n",
       "        vertical-align: top;\n",
       "    }\n",
       "\n",
       "    .dataframe thead th {\n",
       "        text-align: right;\n",
       "    }\n",
       "</style>\n",
       "<table border=\"1\" class=\"dataframe\">\n",
       "  <thead>\n",
       "    <tr style=\"text-align: right;\">\n",
       "      <th></th>\n",
       "      <th>ride_id</th>\n",
       "      <th>rideable_type</th>\n",
       "      <th>started_at</th>\n",
       "      <th>ended_at</th>\n",
       "      <th>start_station_name</th>\n",
       "      <th>start_station_id</th>\n",
       "      <th>end_station_name</th>\n",
       "      <th>end_station_id</th>\n",
       "      <th>member_casual</th>\n",
       "    </tr>\n",
       "  </thead>\n",
       "  <tbody>\n",
       "    <tr>\n",
       "      <th>0</th>\n",
       "      <td>5CB9DFCECF79AF84</td>\n",
       "      <td>classic_bike</td>\n",
       "      <td>2021-01-01 00:08:33</td>\n",
       "      <td>2021-01-01 00:33:53</td>\n",
       "      <td>Maine Ave &amp; 9th St SW</td>\n",
       "      <td>31646.0</td>\n",
       "      <td>Rosslyn Metro / Wilson Blvd &amp; Ft Myer Dr</td>\n",
       "      <td>31015.0</td>\n",
       "      <td>member</td>\n",
       "    </tr>\n",
       "    <tr>\n",
       "      <th>1</th>\n",
       "      <td>629E059504606547</td>\n",
       "      <td>electric_bike</td>\n",
       "      <td>2021-01-01 00:13:43</td>\n",
       "      <td>2021-01-01 00:29:34</td>\n",
       "      <td>10th &amp; U St NW</td>\n",
       "      <td>31111.0</td>\n",
       "      <td>NaN</td>\n",
       "      <td>NaN</td>\n",
       "      <td>casual</td>\n",
       "    </tr>\n",
       "    <tr>\n",
       "      <th>2</th>\n",
       "      <td>E74069873161EE33</td>\n",
       "      <td>electric_bike</td>\n",
       "      <td>2021-01-01 00:14:32</td>\n",
       "      <td>2021-01-01 00:28:45</td>\n",
       "      <td>17th &amp; Corcoran St NW</td>\n",
       "      <td>31214.0</td>\n",
       "      <td>14th &amp; Belmont St NW</td>\n",
       "      <td>31119.0</td>\n",
       "      <td>member</td>\n",
       "    </tr>\n",
       "    <tr>\n",
       "      <th>3</th>\n",
       "      <td>91F95E512CABC46A</td>\n",
       "      <td>classic_bike</td>\n",
       "      <td>2021-01-01 00:15:45</td>\n",
       "      <td>2021-01-01 00:21:20</td>\n",
       "      <td>Wilson Blvd. &amp; N. Vermont St.</td>\n",
       "      <td>31926.0</td>\n",
       "      <td>Wilson Blvd. &amp; N. Vermont St.</td>\n",
       "      <td>31926.0</td>\n",
       "      <td>member</td>\n",
       "    </tr>\n",
       "    <tr>\n",
       "      <th>4</th>\n",
       "      <td>DA46A05139C0EA2F</td>\n",
       "      <td>classic_bike</td>\n",
       "      <td>2021-01-01 00:17:46</td>\n",
       "      <td>2021-01-01 00:21:00</td>\n",
       "      <td>11th &amp; Park Rd NW</td>\n",
       "      <td>31651.0</td>\n",
       "      <td>14th &amp; Newton St NW</td>\n",
       "      <td>31649.0</td>\n",
       "      <td>member</td>\n",
       "    </tr>\n",
       "  </tbody>\n",
       "</table>\n",
       "</div>"
      ],
      "text/plain": [
       "            ride_id  rideable_type           started_at             ended_at  \\\n",
       "0  5CB9DFCECF79AF84   classic_bike  2021-01-01 00:08:33  2021-01-01 00:33:53   \n",
       "1  629E059504606547  electric_bike  2021-01-01 00:13:43  2021-01-01 00:29:34   \n",
       "2  E74069873161EE33  electric_bike  2021-01-01 00:14:32  2021-01-01 00:28:45   \n",
       "3  91F95E512CABC46A   classic_bike  2021-01-01 00:15:45  2021-01-01 00:21:20   \n",
       "4  DA46A05139C0EA2F   classic_bike  2021-01-01 00:17:46  2021-01-01 00:21:00   \n",
       "\n",
       "              start_station_name start_station_id  \\\n",
       "0          Maine Ave & 9th St SW          31646.0   \n",
       "1                 10th & U St NW          31111.0   \n",
       "2          17th & Corcoran St NW          31214.0   \n",
       "3  Wilson Blvd. & N. Vermont St.          31926.0   \n",
       "4              11th & Park Rd NW          31651.0   \n",
       "\n",
       "                           end_station_name end_station_id member_casual  \n",
       "0  Rosslyn Metro / Wilson Blvd & Ft Myer Dr        31015.0        member  \n",
       "1                                       NaN            NaN        casual  \n",
       "2                      14th & Belmont St NW        31119.0        member  \n",
       "3             Wilson Blvd. & N. Vermont St.        31926.0        member  \n",
       "4                       14th & Newton St NW        31649.0        member  "
      ]
     },
     "execution_count": 12,
     "metadata": {},
     "output_type": "execute_result"
    }
   ],
   "source": [
    "df[string_col].head()"
   ]
  },
  {
   "cell_type": "code",
   "execution_count": 8,
   "metadata": {},
   "outputs": [
    {
     "name": "stdout",
     "output_type": "stream",
     "text": [
      "Unique values before conversion:\n",
      " ride_id               10693997\n",
      "rideable_type                3\n",
      "started_at             9649173\n",
      "ended_at               9638365\n",
      "start_station_name         860\n",
      "start_station_id          1891\n",
      "end_station_name           865\n",
      "end_station_id            1904\n",
      "start_lat               570110\n",
      "start_lng               617671\n",
      "end_lat                 173835\n",
      "end_lng                 183886\n",
      "member_casual                2\n",
      "dtype: int64 \n",
      "\n"
     ]
    }
   ],
   "source": [
    "# Check unique values before conversion\n",
    "unique_values_before = df.nunique()\n",
    "print(\"Unique values before conversion:\\n\", unique_values_before, '\\n')"
   ]
  },
  {
   "cell_type": "code",
   "execution_count": 16,
   "metadata": {},
   "outputs": [
    {
     "name": "stdout",
     "output_type": "stream",
     "text": [
      "Memory Usage before Converting dtypes:\n",
      " Index                       132\n",
      "ride_id               695109805\n",
      "rideable_type         654238494\n",
      "started_at            727191796\n",
      "ended_at              727191796\n",
      "start_station_name    740478725\n",
      "start_station_id      343549594\n",
      "end_station_name      736905216\n",
      "end_station_id        343530364\n",
      "start_lat              85551976\n",
      "start_lng              85551976\n",
      "end_lat                85551976\n",
      "end_lng                85551976\n",
      "member_casual         588169835\n",
      "dtype: int64 \n",
      "\n"
     ]
    }
   ],
   "source": [
    "# Check Memory usage before converting\n",
    "memory_usage = df.memory_usage(deep=True)\n",
    "print(\"Memory Usage before Converting dtypes:\\n\", memory_usage, '\\n')"
   ]
  },
  {
   "cell_type": "code",
   "execution_count": 17,
   "metadata": {},
   "outputs": [],
   "source": [
    "# Copy the dataframe\n",
    "df2 = df.copy()\n",
    "\n",
    "# Convert categorical columns to category type for memory efficiency\n",
    "df2[\"rideable_type\"] = df2[\"rideable_type\"].astype(\"category\")\n",
    "df2[\"start_station_name\"] = df2[\"start_station_name\"].astype(\"category\")\n",
    "df2[\"end_station_name\"] = df2[\"end_station_name\"].astype(\"category\")\n",
    "df2[\"member_casual\"] = df2[\"member_casual\"].astype(\"category\")\n",
    "\n",
    "# Convert started_at and ended_at to datetime for memory efficiency\n",
    "df2['started_at'] = pd.to_datetime(df2['started_at'])\n",
    "df2['ended_at'] = pd.to_datetime(df2['ended_at'])\n",
    "\n",
    "# Regenerate the entire ride_id column with sequential integers and convert it\n",
    "# to a memory-efficient data type (uint32)\n",
    "df2['ride_id'] = pd.Series(range(1, len(df2) + 1), dtype='uint32')"
   ]
  },
  {
   "cell_type": "code",
   "execution_count": 19,
   "metadata": {},
   "outputs": [
    {
     "name": "stdout",
     "output_type": "stream",
     "text": [
      "<class 'pandas.core.frame.DataFrame'>\n",
      "RangeIndex: 10693997 entries, 0 to 10693996\n",
      "Data columns (total 13 columns):\n",
      " #   Column              Dtype         \n",
      "---  ------              -----         \n",
      " 0   ride_id             uint32        \n",
      " 1   rideable_type       category      \n",
      " 2   started_at          datetime64[ns]\n",
      " 3   ended_at            datetime64[ns]\n",
      " 4   start_station_name  category      \n",
      " 5   start_station_id    object        \n",
      " 6   end_station_name    category      \n",
      " 7   end_station_id      object        \n",
      " 8   start_lat           float64       \n",
      " 9   start_lng           float64       \n",
      " 10  end_lat             float64       \n",
      " 11  end_lng             float64       \n",
      " 12  member_casual       category      \n",
      "dtypes: category(4), datetime64[ns](2), float64(4), object(2), uint32(1)\n",
      "memory usage: 754.8+ MB\n",
      "Info of the DataFrame after conversion:\n",
      " None \n",
      "\n"
     ]
    }
   ],
   "source": [
    "# Check info and dtypes after conversion\n",
    "info_after = df2.info()\n",
    "print(\"Info of the DataFrame after conversion:\\n\", info_after, '\\n')"
   ]
  },
  {
   "cell_type": "code",
   "execution_count": 20,
   "metadata": {},
   "outputs": [
    {
     "name": "stdout",
     "output_type": "stream",
     "text": [
      "Unique values after conversion:\n",
      " ride_id               10693997\n",
      "rideable_type                3\n",
      "started_at             9649173\n",
      "ended_at               9638365\n",
      "start_station_name         860\n",
      "start_station_id          1891\n",
      "end_station_name           865\n",
      "end_station_id            1904\n",
      "start_lat               570110\n",
      "start_lng               617671\n",
      "end_lat                 173835\n",
      "end_lng                 183886\n",
      "member_casual                2\n",
      "dtype: int64 \n",
      "\n"
     ]
    }
   ],
   "source": [
    "# Check unique values after conversion\n",
    "unique_values_after = df2.nunique()\n",
    "print(\"Unique values after conversion:\\n\", unique_values_after, '\\n')"
   ]
  },
  {
   "cell_type": "code",
   "execution_count": 21,
   "metadata": {},
   "outputs": [
    {
     "name": "stdout",
     "output_type": "stream",
     "text": [
      "Memory Usage after Converting dtype:\n",
      " Index                       132\n",
      "ride_id                42775988\n",
      "rideable_type          10694288\n",
      "started_at             85551976\n",
      "ended_at               85551976\n",
      "start_station_name     21485201\n",
      "start_station_id      343549594\n",
      "end_station_name       21485559\n",
      "end_station_id        343530364\n",
      "start_lat              85551976\n",
      "start_lng              85551976\n",
      "end_lat                85551976\n",
      "end_lng                85551976\n",
      "member_casual          10694215\n",
      "dtype: int64 \n",
      "\n"
     ]
    }
   ],
   "source": [
    "# Check memory usage after all conversions\n",
    "print(\"Memory Usage after Converting dtype:\\n\", df2.memory_usage(deep=True), '\\n')"
   ]
  },
  {
   "cell_type": "code",
   "execution_count": 22,
   "metadata": {},
   "outputs": [
    {
     "name": "stdout",
     "output_type": "stream",
     "text": [
      "We reduced the in-memory footprint of the dataset to 0.22 of its original size.\n"
     ]
    }
   ],
   "source": [
    "# Calculate how much we reduced the in-memory footprint of the dataset\n",
    "reduction = df2.memory_usage(deep=True).sum() / df.memory_usage(deep=True).sum()\n",
    "print(f\"We reduced the in-memory footprint of the dataset to {reduction:.2f} of its original size.\")"
   ]
  },
  {
   "cell_type": "code",
   "execution_count": 23,
   "metadata": {},
   "outputs": [
    {
     "data": {
      "text/plain": [
       "0"
      ]
     },
     "execution_count": 23,
     "metadata": {},
     "output_type": "execute_result"
    }
   ],
   "source": [
    "#Check for duplicates\n",
    "df2.duplicated().sum()"
   ]
  },
  {
   "cell_type": "code",
   "execution_count": 24,
   "metadata": {},
   "outputs": [
    {
     "data": {
      "text/plain": [
       "ride_id                    0\n",
       "rideable_type              0\n",
       "started_at                 0\n",
       "ended_at                   0\n",
       "start_station_name    742776\n",
       "start_station_id      742776\n",
       "end_station_name      811282\n",
       "end_station_id        811282\n",
       "start_lat                  2\n",
       "start_lng                  2\n",
       "end_lat                16765\n",
       "end_lng                16765\n",
       "member_casual              0\n",
       "dtype: int64"
      ]
     },
     "execution_count": 24,
     "metadata": {},
     "output_type": "execute_result"
    }
   ],
   "source": [
    "# Checking for NULLs in the data\n",
    "df2.isnull().sum()"
   ]
  },
  {
   "cell_type": "code",
   "execution_count": 25,
   "metadata": {},
   "outputs": [
    {
     "data": {
      "text/html": [
       "<div>\n",
       "<style scoped>\n",
       "    .dataframe tbody tr th:only-of-type {\n",
       "        vertical-align: middle;\n",
       "    }\n",
       "\n",
       "    .dataframe tbody tr th {\n",
       "        vertical-align: top;\n",
       "    }\n",
       "\n",
       "    .dataframe thead th {\n",
       "        text-align: right;\n",
       "    }\n",
       "</style>\n",
       "<table border=\"1\" class=\"dataframe\">\n",
       "  <thead>\n",
       "    <tr style=\"text-align: right;\">\n",
       "      <th></th>\n",
       "      <th>count</th>\n",
       "      <th>mean</th>\n",
       "      <th>min</th>\n",
       "      <th>25%</th>\n",
       "      <th>50%</th>\n",
       "      <th>75%</th>\n",
       "      <th>max</th>\n",
       "      <th>std</th>\n",
       "    </tr>\n",
       "  </thead>\n",
       "  <tbody>\n",
       "    <tr>\n",
       "      <th>ride_id</th>\n",
       "      <td>10693997.0</td>\n",
       "      <td>5346999.0</td>\n",
       "      <td>1.0</td>\n",
       "      <td>2673500.0</td>\n",
       "      <td>5346999.0</td>\n",
       "      <td>8020498.0</td>\n",
       "      <td>10693997.0</td>\n",
       "      <td>3087091.167669</td>\n",
       "    </tr>\n",
       "    <tr>\n",
       "      <th>started_at</th>\n",
       "      <td>10693997</td>\n",
       "      <td>2022-09-13 17:52:21.865432320</td>\n",
       "      <td>2021-01-01 00:08:33</td>\n",
       "      <td>2021-12-16 10:45:23</td>\n",
       "      <td>2022-09-22 08:29:17</td>\n",
       "      <td>2023-06-18 21:42:53</td>\n",
       "      <td>2023-12-31 23:59:38</td>\n",
       "      <td>NaN</td>\n",
       "    </tr>\n",
       "    <tr>\n",
       "      <th>ended_at</th>\n",
       "      <td>10693997</td>\n",
       "      <td>2022-09-13 18:15:16.333648896</td>\n",
       "      <td>2021-01-01 00:21:00</td>\n",
       "      <td>2021-12-16 11:00:56</td>\n",
       "      <td>2022-09-22 08:44:49</td>\n",
       "      <td>2023-06-18 22:08:16</td>\n",
       "      <td>2024-01-02 00:41:36</td>\n",
       "      <td>NaN</td>\n",
       "    </tr>\n",
       "    <tr>\n",
       "      <th>start_lat</th>\n",
       "      <td>10693995.0</td>\n",
       "      <td>38.903306</td>\n",
       "      <td>38.76</td>\n",
       "      <td>38.890539</td>\n",
       "      <td>38.90276</td>\n",
       "      <td>38.914751</td>\n",
       "      <td>39.14</td>\n",
       "      <td>0.026842</td>\n",
       "    </tr>\n",
       "    <tr>\n",
       "      <th>start_lng</th>\n",
       "      <td>10693995.0</td>\n",
       "      <td>-77.031872</td>\n",
       "      <td>-77.4</td>\n",
       "      <td>-77.044609</td>\n",
       "      <td>-77.031617</td>\n",
       "      <td>-77.013667</td>\n",
       "      <td>-76.82</td>\n",
       "      <td>0.033462</td>\n",
       "    </tr>\n",
       "    <tr>\n",
       "      <th>end_lat</th>\n",
       "      <td>10677232.0</td>\n",
       "      <td>38.902256</td>\n",
       "      <td>0.0</td>\n",
       "      <td>38.890496</td>\n",
       "      <td>38.902314</td>\n",
       "      <td>38.912648</td>\n",
       "      <td>39.19</td>\n",
       "      <td>0.050493</td>\n",
       "    </tr>\n",
       "    <tr>\n",
       "      <th>end_lng</th>\n",
       "      <td>10677232.0</td>\n",
       "      <td>-77.031463</td>\n",
       "      <td>-77.56</td>\n",
       "      <td>-77.044661</td>\n",
       "      <td>-77.0315</td>\n",
       "      <td>-77.012808</td>\n",
       "      <td>0.0</td>\n",
       "      <td>0.091278</td>\n",
       "    </tr>\n",
       "  </tbody>\n",
       "</table>\n",
       "</div>"
      ],
      "text/plain": [
       "                 count                           mean                  min  \\\n",
       "ride_id     10693997.0                      5346999.0                  1.0   \n",
       "started_at    10693997  2022-09-13 17:52:21.865432320  2021-01-01 00:08:33   \n",
       "ended_at      10693997  2022-09-13 18:15:16.333648896  2021-01-01 00:21:00   \n",
       "start_lat   10693995.0                      38.903306                38.76   \n",
       "start_lng   10693995.0                     -77.031872                -77.4   \n",
       "end_lat     10677232.0                      38.902256                  0.0   \n",
       "end_lng     10677232.0                     -77.031463               -77.56   \n",
       "\n",
       "                            25%                  50%                  75%  \\\n",
       "ride_id               2673500.0            5346999.0            8020498.0   \n",
       "started_at  2021-12-16 10:45:23  2022-09-22 08:29:17  2023-06-18 21:42:53   \n",
       "ended_at    2021-12-16 11:00:56  2022-09-22 08:44:49  2023-06-18 22:08:16   \n",
       "start_lat             38.890539             38.90276            38.914751   \n",
       "start_lng            -77.044609           -77.031617           -77.013667   \n",
       "end_lat               38.890496            38.902314            38.912648   \n",
       "end_lng              -77.044661             -77.0315           -77.012808   \n",
       "\n",
       "                            max             std  \n",
       "ride_id              10693997.0  3087091.167669  \n",
       "started_at  2023-12-31 23:59:38             NaN  \n",
       "ended_at    2024-01-02 00:41:36             NaN  \n",
       "start_lat                 39.14        0.026842  \n",
       "start_lng                -76.82        0.033462  \n",
       "end_lat                   39.19        0.050493  \n",
       "end_lng                     0.0        0.091278  "
      ]
     },
     "execution_count": 25,
     "metadata": {},
     "output_type": "execute_result"
    }
   ],
   "source": [
    "df2.describe().T"
   ]
  }
 ],
 "metadata": {
  "kernelspec": {
   "display_name": "CodeAcademyBerlin",
   "language": "python",
   "name": "python3"
  },
  "language_info": {
   "codemirror_mode": {
    "name": "ipython",
    "version": 3
   },
   "file_extension": ".py",
   "mimetype": "text/x-python",
   "name": "python",
   "nbconvert_exporter": "python",
   "pygments_lexer": "ipython3",
   "version": "3.12.7"
  }
 },
 "nbformat": 4,
 "nbformat_minor": 2
}
